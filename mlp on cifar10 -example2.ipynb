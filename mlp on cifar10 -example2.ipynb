{
 "cells": [
  {
   "cell_type": "markdown",
   "id": "56d46c9b",
   "metadata": {},
   "source": [
    "# A basic MPL example using Sequential layers"
   ]
  },
  {
   "cell_type": "markdown",
   "id": "fcaa1e8e",
   "metadata": {},
   "source": [
    "In this Notebook, I'll provide a basic example of how to use the MPL network with Sequential layers. Specifically, I utilized the cifar10 dataset, which consists of 50,000 32x32 color training images and 10,000 test images, categorized into 10 classes. For additional information on the dataset, please visit the CIFAR homepage.\n",
    "\n",
    "Although it's a small dataset, it provides ample opportunities to experiment with various models, techniques, and approaches."
   ]
  },
  {
   "cell_type": "markdown",
   "id": "e6e4a414",
   "metadata": {},
   "source": [
    "# Import Libraries"
   ]
  },
  {
   "cell_type": "code",
   "execution_count": 1,
   "id": "03cee5a3",
   "metadata": {},
   "outputs": [],
   "source": [
    "import matplotlib.pyplot as plt\n",
    "import numpy as np \n",
    "import pandas as pd\n",
    "import tensorflow as tf\n",
    "import tensorflow.keras.backend as K\n"
   ]
  },
  {
   "cell_type": "markdown",
   "id": "16fb1d6c",
   "metadata": {},
   "source": [
    "# Load Dataset "
   ]
  },
  {
   "cell_type": "code",
   "execution_count": 54,
   "id": "fc05a287",
   "metadata": {},
   "outputs": [],
   "source": [
    "'''\n",
    "Here we will load the cifar10 dataset and then normalize the train  and test datasets. \n",
    "'''\n",
    "\n",
    "cifar10_data = tf.keras.datasets.cifar10\n",
    "(train_images , train_labels),(test_images, test_labels) = cifar10_data.load_data()\n",
    "train_images = train_images/255.\n",
    "test_images = test_images / 255.\n"
   ]
  },
  {
   "cell_type": "markdown",
   "id": "f4300594",
   "metadata": {},
   "source": [
    "Loads the CIFAR10 dataset.\n",
    "\n",
    "This is a dataset of 50,000 32x32 color training images and 10,000 test\n",
    "images, labeled over 10 categories. See more info at the\n",
    "[CIFAR homepage](https://www.cs.toronto.edu/~kriz/cifar.html).\n",
    "\n",
    "The classes are:\n",
    "\n",
    "| Label | Description |\n",
    "|:-----:|-------------|\n",
    "|   0   | airplane    |\n",
    "|   1   | automobile  |\n",
    "|   2   | bird        |\n",
    "|   3   | cat         |\n",
    "|   4   | deer        |\n",
    "|   5   | dog         |\n",
    "|   6   | frog        |\n",
    "|   7   | horse       |\n",
    "|   8   | ship        |\n",
    "|   9   | truck       |\n",
    "\n",
    "Returns:\n",
    "  Tuple of NumPy arrays: `(x_train, y_train), (x_test, y_test)`.\n",
    "\n",
    "**x_train**: uint8 NumPy array of grayscale image data with shapes\n",
    "  `(50000, 32, 32, 3)`, containing the training data. Pixel values range\n",
    "  from 0 to 255.\n",
    "\n",
    "**y_train**: uint8 NumPy array of labels (integers in range 0-9)\n",
    "  with shape `(50000, 1)` for the training data.\n",
    "\n",
    "**x_test**: uint8 NumPy array of grayscale image data with shapes\n",
    "  `(10000, 32, 32, 3)`, containing the test data. Pixel values range\n",
    "  from 0 to 255.\n",
    "\n",
    "**y_test**: uint8 NumPy array of labels (integers in range 0-9)\n",
    "  with shape `(10000, 1)` for the test data.\n",
    "\n",
    "Example:\n",
    "\n",
    "```python\n",
    "(x_train, y_train), (x_test, y_test) = keras.datasets.cifar10.load_data()\n",
    "\n",
    "assert x_train.shape == (50000, 32, 32, 3)\n",
    "\n",
    "assert x_test.shape == (10000, 32, 32, 3)\n",
    "\n",
    "assert y_train.shape == (50000, 1)\n",
    "\n",
    "assert y_test.shape == (10000, 1)"
   ]
  },
  {
   "cell_type": "markdown",
   "id": "18764909",
   "metadata": {},
   "source": [
    "# Building mlp model"
   ]
  },
  {
   "cell_type": "code",
   "execution_count": 55,
   "id": "597a75f8",
   "metadata": {},
   "outputs": [],
   "source": [
    "# In this stepwe use the sequential layers and build an mlp model. \n",
    "\n",
    "# Note that, this is an example of mine and you can edit, add or remove your layers and items. \n",
    "\n",
    "model = tf.keras.models.Sequential(name = 'my_model')\n",
    "model.add(tf.keras.layers.Flatten(input_shape = (32,32,3) , name = 'Input_layer'))\n",
    "model.add(tf.keras.layers.Dense(units = 64 , name = 'Hidden_layer_1' , activation = 'relu'))\n",
    "model.add(tf.keras.layers.Dense(units = 64 , name = 'Hidden_layer_2' , activation = 'relu'))\n",
    "model.add(tf.keras.layers.Dense(units = 10 , name = 'Hidden_layer_3' , activation = 'linear')) \n",
    "model.add(tf.keras.layers.Softmax(name = 'SoftMax_layer')) "
   ]
  },
  {
   "cell_type": "code",
   "execution_count": 56,
   "id": "47b6aae3",
   "metadata": {},
   "outputs": [
    {
     "name": "stdout",
     "output_type": "stream",
     "text": [
      "Model: \"my_model\"\n",
      "_________________________________________________________________\n",
      " Layer (type)                Output Shape              Param #   \n",
      "=================================================================\n",
      " Input_layer (Flatten)       (None, 3072)              0         \n",
      "                                                                 \n",
      " Hidden_layer_1 (Dense)      (None, 64)                196672    \n",
      "                                                                 \n",
      " Hidden_layer_2 (Dense)      (None, 64)                4160      \n",
      "                                                                 \n",
      " Hidden_layer_3 (Dense)      (None, 10)                650       \n",
      "                                                                 \n",
      " SoftMax_layer (Softmax)     (None, 10)                0         \n",
      "                                                                 \n",
      "=================================================================\n",
      "Total params: 201,482\n",
      "Trainable params: 201,482\n",
      "Non-trainable params: 0\n",
      "_________________________________________________________________\n"
     ]
    }
   ],
   "source": [
    "#Here we use summary method to see the parameters details in this model\n",
    "model.summary()"
   ]
  },
  {
   "cell_type": "code",
   "execution_count": 57,
   "id": "27709fe6",
   "metadata": {},
   "outputs": [],
   "source": [
    "#Here use one-hot methd and classify  the train_labels and the test_labels as one-hot codes\n",
    "\n",
    "train_labels_one_hot = K.one_hot(train_labels , 10) # take a tensor as input and gives its classes \n",
    "test_labels_one_hot = K.one_hot(test_labels , 10) #we set 10, cause or label set has 10 classes"
   ]
  },
  {
   "cell_type": "code",
   "execution_count": 58,
   "id": "8ee0c8c5",
   "metadata": {},
   "outputs": [
    {
     "data": {
      "text/plain": [
       "TensorShape([50000, 1, 10])"
      ]
     },
     "execution_count": 58,
     "metadata": {},
     "output_type": "execute_result"
    }
   ],
   "source": [
    "# we check the shape of the train_labels after one-hot coding\n",
    "\n",
    "train_labels_one_hot.shape"
   ]
  },
  {
   "cell_type": "code",
   "execution_count": 59,
   "id": "2ce86949",
   "metadata": {},
   "outputs": [
    {
     "data": {
      "text/plain": [
       "TensorShape([10000, 10])"
      ]
     },
     "execution_count": 59,
     "metadata": {},
     "output_type": "execute_result"
    }
   ],
   "source": [
    "# here we should change the shape of the one_hot label set to (50000 , 10)\n",
    "\n",
    "train_labels_one_hot = train_labels_one_hot[ : , 0 , :] #this means we dont need the second element '1' and make it 0\n",
    "test_labels_one_hot = test_labels_one_hot[ : , 0 , :]\n",
    "test_labels_one_hot.shape"
   ]
  },
  {
   "cell_type": "code",
   "execution_count": 60,
   "id": "0e70f405",
   "metadata": {},
   "outputs": [
    {
     "data": {
      "text/plain": [
       "<tf.Tensor: shape=(5, 10), dtype=float32, numpy=\n",
       "array([[0., 0., 0., 0., 0., 0., 1., 0., 0., 0.],\n",
       "       [0., 0., 0., 0., 0., 0., 0., 0., 0., 1.],\n",
       "       [0., 0., 0., 0., 0., 0., 0., 0., 0., 1.],\n",
       "       [0., 0., 0., 0., 1., 0., 0., 0., 0., 0.],\n",
       "       [0., 1., 0., 0., 0., 0., 0., 0., 0., 0.]], dtype=float32)>"
      ]
     },
     "execution_count": 60,
     "metadata": {},
     "output_type": "execute_result"
    }
   ],
   "source": [
    "train_labels_one_hot[:5] # see the labels to gain better intuition of the one-hot labels"
   ]
  },
  {
   "cell_type": "code",
   "execution_count": 61,
   "id": "ab665eec",
   "metadata": {},
   "outputs": [
    {
     "data": {
      "text/plain": [
       "array([[6],\n",
       "       [9],\n",
       "       [9],\n",
       "       [4],\n",
       "       [1]], dtype=uint8)"
      ]
     },
     "execution_count": 61,
     "metadata": {},
     "output_type": "execute_result"
    }
   ],
   "source": [
    "train_labels[:5] # here we check the place of the label in the train_labelsand check them with on-hot version of the train_labels"
   ]
  },
  {
   "cell_type": "markdown",
   "id": "fd89f188",
   "metadata": {},
   "source": [
    "# Setting Loss, Optimizer,Accuracy anf then compile the model "
   ]
  },
  {
   "cell_type": "code",
   "execution_count": 62,
   "id": "817edb8e",
   "metadata": {},
   "outputs": [],
   "source": [
    "#Since we are working with one-hot train_labels and test_labels, we need to use tf.keras.losses.CategoricalCrossentropy() to obtain the loss value\n",
    "\n",
    "\n",
    "loss = tf.keras.losses.CategoricalCrossentropy()\n",
    "\n",
    "optimizer =  tf.keras.optimizers.SGD(learning_rate=0.005 , nesterov= True , momentum = 0.1 )\n",
    "acc = tf.keras.metrics.CategoricalAccuracy()\n",
    "\n",
    "#Remaek:\n",
    "#if we use Sparss... in loss here we use Sparss...\n",
    "#if we use CategoricalCro... , here we need to use Categor... as well. \n",
    "\n",
    "\n",
    "model.compile(optimizer = optimizer,\n",
    "              loss=loss,\n",
    "              metrics= [acc, ])"
   ]
  },
  {
   "cell_type": "markdown",
   "id": "f393c4d6",
   "metadata": {},
   "source": [
    "# Fitting the model"
   ]
  },
  {
   "cell_type": "code",
   "execution_count": 63,
   "id": "50b9f65a",
   "metadata": {},
   "outputs": [
    {
     "name": "stdout",
     "output_type": "stream",
     "text": [
      "Epoch 1/50\n",
      "782/782 [==============================] - 11s 7ms/step - loss: 2.0520 - categorical_accuracy: 0.2579\n",
      "Epoch 2/50\n",
      "782/782 [==============================] - 6s 8ms/step - loss: 1.8631 - categorical_accuracy: 0.3426\n",
      "Epoch 3/50\n",
      "782/782 [==============================] - 6s 8ms/step - loss: 1.7902 - categorical_accuracy: 0.3697\n",
      "Epoch 4/50\n",
      "782/782 [==============================] - 6s 7ms/step - loss: 1.7415 - categorical_accuracy: 0.3855\n",
      "Epoch 5/50\n",
      "782/782 [==============================] - 6s 8ms/step - loss: 1.7044 - categorical_accuracy: 0.4013\n",
      "Epoch 6/50\n",
      "782/782 [==============================] - 6s 8ms/step - loss: 1.6737 - categorical_accuracy: 0.4099\n",
      "Epoch 7/50\n",
      "782/782 [==============================] - 6s 7ms/step - loss: 1.6468 - categorical_accuracy: 0.4200\n",
      "Epoch 8/50\n",
      "782/782 [==============================] - 6s 8ms/step - loss: 1.6239 - categorical_accuracy: 0.4277\n",
      "Epoch 9/50\n",
      "782/782 [==============================] - 6s 8ms/step - loss: 1.6014 - categorical_accuracy: 0.4352\n",
      "Epoch 10/50\n",
      "782/782 [==============================] - 6s 8ms/step - loss: 1.5837 - categorical_accuracy: 0.4417: 0s - loss: 1.5837 - categorical_ac\n",
      "Epoch 11/50\n",
      "782/782 [==============================] - 6s 8ms/step - loss: 1.5662 - categorical_accuracy: 0.4484\n",
      "Epoch 12/50\n",
      "782/782 [==============================] - 6s 7ms/step - loss: 1.5512 - categorical_accuracy: 0.4525\n",
      "Epoch 13/50\n",
      "782/782 [==============================] - 6s 7ms/step - loss: 1.5390 - categorical_accuracy: 0.4577\n",
      "Epoch 14/50\n",
      "782/782 [==============================] - 6s 7ms/step - loss: 1.5239 - categorical_accuracy: 0.4626\n",
      "Epoch 15/50\n",
      "782/782 [==============================] - 5s 7ms/step - loss: 1.5124 - categorical_accuracy: 0.4667\n",
      "Epoch 16/50\n",
      "782/782 [==============================] - 6s 7ms/step - loss: 1.5018 - categorical_accuracy: 0.4699\n",
      "Epoch 17/50\n",
      "782/782 [==============================] - 6s 8ms/step - loss: 1.4912 - categorical_accuracy: 0.4749\n",
      "Epoch 18/50\n",
      "782/782 [==============================] - 6s 7ms/step - loss: 1.4781 - categorical_accuracy: 0.4797\n",
      "Epoch 19/50\n",
      "782/782 [==============================] - 6s 8ms/step - loss: 1.4698 - categorical_accuracy: 0.4820\n",
      "Epoch 20/50\n",
      "782/782 [==============================] - 5s 7ms/step - loss: 1.4619 - categorical_accuracy: 0.4843\n",
      "Epoch 21/50\n",
      "782/782 [==============================] - 6s 7ms/step - loss: 1.4493 - categorical_accuracy: 0.4885\n",
      "Epoch 22/50\n",
      "782/782 [==============================] - 6s 8ms/step - loss: 1.4451 - categorical_accuracy: 0.4914\n",
      "Epoch 23/50\n",
      "782/782 [==============================] - 5s 7ms/step - loss: 1.4349 - categorical_accuracy: 0.4944\n",
      "Epoch 24/50\n",
      "782/782 [==============================] - 6s 7ms/step - loss: 1.4266 - categorical_accuracy: 0.4975\n",
      "Epoch 25/50\n",
      "782/782 [==============================] - 6s 7ms/step - loss: 1.4207 - categorical_accuracy: 0.4989\n",
      "Epoch 26/50\n",
      "782/782 [==============================] - 5s 7ms/step - loss: 1.4109 - categorical_accuracy: 0.5029\n",
      "Epoch 27/50\n",
      "782/782 [==============================] - 6s 8ms/step - loss: 1.4060 - categorical_accuracy: 0.5040\n",
      "Epoch 28/50\n",
      "782/782 [==============================] - 6s 8ms/step - loss: 1.3975 - categorical_accuracy: 0.5083\n",
      "Epoch 29/50\n",
      "782/782 [==============================] - 5s 6ms/step - loss: 1.3914 - categorical_accuracy: 0.5106\n",
      "Epoch 30/50\n",
      "782/782 [==============================] - 5s 7ms/step - loss: 1.3847 - categorical_accuracy: 0.5125 - ETA: 0s - loss: 1.3834 - categorical_ac\n",
      "Epoch 31/50\n",
      "782/782 [==============================] - 5s 7ms/step - loss: 1.3765 - categorical_accuracy: 0.5157\n",
      "Epoch 32/50\n",
      "782/782 [==============================] - 5s 6ms/step - loss: 1.3720 - categorical_accuracy: 0.5167\n",
      "Epoch 33/50\n",
      "782/782 [==============================] - 5s 7ms/step - loss: 1.3662 - categorical_accuracy: 0.5172\n",
      "Epoch 34/50\n",
      "782/782 [==============================] - 6s 7ms/step - loss: 1.3613 - categorical_accuracy: 0.5206\n",
      "Epoch 35/50\n",
      "782/782 [==============================] - 5s 6ms/step - loss: 1.3557 - categorical_accuracy: 0.5205: 0s - loss: 1.3562 - cate\n",
      "Epoch 36/50\n",
      "782/782 [==============================] - 6s 7ms/step - loss: 1.3495 - categorical_accuracy: 0.5246\n",
      "Epoch 37/50\n",
      "782/782 [==============================] - 5s 7ms/step - loss: 1.3421 - categorical_accuracy: 0.5278\n",
      "Epoch 38/50\n",
      "782/782 [==============================] - 5s 6ms/step - loss: 1.3374 - categorical_accuracy: 0.5298\n",
      "Epoch 39/50\n",
      "782/782 [==============================] - 5s 7ms/step - loss: 1.3330 - categorical_accuracy: 0.5326\n",
      "Epoch 40/50\n",
      "782/782 [==============================] - 5s 7ms/step - loss: 1.3278 - categorical_accuracy: 0.5326\n",
      "Epoch 41/50\n",
      "782/782 [==============================] - 6s 7ms/step - loss: 1.3248 - categorical_accuracy: 0.5330\n",
      "Epoch 42/50\n",
      "782/782 [==============================] - 5s 7ms/step - loss: 1.3204 - categorical_accuracy: 0.5351\n",
      "Epoch 43/50\n",
      "782/782 [==============================] - 5s 6ms/step - loss: 1.3128 - categorical_accuracy: 0.5372\n",
      "Epoch 44/50\n",
      "782/782 [==============================] - 7s 8ms/step - loss: 1.3093 - categorical_accuracy: 0.5405\n",
      "Epoch 45/50\n",
      "782/782 [==============================] - 7s 9ms/step - loss: 1.3034 - categorical_accuracy: 0.5433\n",
      "Epoch 46/50\n",
      "782/782 [==============================] - 7s 9ms/step - loss: 1.3022 - categorical_accuracy: 0.5411: 0s - loss: 1.298\n",
      "Epoch 47/50\n",
      "782/782 [==============================] - 7s 9ms/step - loss: 1.2963 - categorical_accuracy: 0.5468\n",
      "Epoch 48/50\n",
      "782/782 [==============================] - 6s 8ms/step - loss: 1.2928 - categorical_accuracy: 0.5451\n",
      "Epoch 49/50\n",
      "782/782 [==============================] - 7s 8ms/step - loss: 1.2869 - categorical_accuracy: 0.5458\n",
      "Epoch 50/50\n",
      "782/782 [==============================] - 8s 10ms/step - loss: 1.2825 - categorical_accuracy: 0.5509\n"
     ]
    }
   ],
   "source": [
    "\n",
    "# Here we fit model on the whole training set \n",
    "\n",
    "history = model.fit(train_images , train_labels_one_hot,\n",
    "                   batch_size= 64, epochs=50 , verbose=1)\n"
   ]
  },
  {
   "cell_type": "code",
   "execution_count": 65,
   "id": "ab9b2b68",
   "metadata": {},
   "outputs": [
    {
     "data": {
      "text/html": [
       "<div>\n",
       "<style scoped>\n",
       "    .dataframe tbody tr th:only-of-type {\n",
       "        vertical-align: middle;\n",
       "    }\n",
       "\n",
       "    .dataframe tbody tr th {\n",
       "        vertical-align: top;\n",
       "    }\n",
       "\n",
       "    .dataframe thead th {\n",
       "        text-align: right;\n",
       "    }\n",
       "</style>\n",
       "<table border=\"1\" class=\"dataframe\">\n",
       "  <thead>\n",
       "    <tr style=\"text-align: right;\">\n",
       "      <th></th>\n",
       "      <th>loss</th>\n",
       "      <th>categorical_accuracy</th>\n",
       "    </tr>\n",
       "  </thead>\n",
       "  <tbody>\n",
       "    <tr>\n",
       "      <th>0</th>\n",
       "      <td>2.051991</td>\n",
       "      <td>0.25788</td>\n",
       "    </tr>\n",
       "    <tr>\n",
       "      <th>1</th>\n",
       "      <td>1.863062</td>\n",
       "      <td>0.34256</td>\n",
       "    </tr>\n",
       "    <tr>\n",
       "      <th>2</th>\n",
       "      <td>1.790218</td>\n",
       "      <td>0.36970</td>\n",
       "    </tr>\n",
       "    <tr>\n",
       "      <th>3</th>\n",
       "      <td>1.741540</td>\n",
       "      <td>0.38552</td>\n",
       "    </tr>\n",
       "    <tr>\n",
       "      <th>4</th>\n",
       "      <td>1.704432</td>\n",
       "      <td>0.40132</td>\n",
       "    </tr>\n",
       "    <tr>\n",
       "      <th>5</th>\n",
       "      <td>1.673677</td>\n",
       "      <td>0.40986</td>\n",
       "    </tr>\n",
       "    <tr>\n",
       "      <th>6</th>\n",
       "      <td>1.646760</td>\n",
       "      <td>0.42000</td>\n",
       "    </tr>\n",
       "    <tr>\n",
       "      <th>7</th>\n",
       "      <td>1.623940</td>\n",
       "      <td>0.42774</td>\n",
       "    </tr>\n",
       "    <tr>\n",
       "      <th>8</th>\n",
       "      <td>1.601433</td>\n",
       "      <td>0.43518</td>\n",
       "    </tr>\n",
       "    <tr>\n",
       "      <th>9</th>\n",
       "      <td>1.583697</td>\n",
       "      <td>0.44172</td>\n",
       "    </tr>\n",
       "    <tr>\n",
       "      <th>10</th>\n",
       "      <td>1.566224</td>\n",
       "      <td>0.44838</td>\n",
       "    </tr>\n",
       "    <tr>\n",
       "      <th>11</th>\n",
       "      <td>1.551167</td>\n",
       "      <td>0.45254</td>\n",
       "    </tr>\n",
       "    <tr>\n",
       "      <th>12</th>\n",
       "      <td>1.538992</td>\n",
       "      <td>0.45770</td>\n",
       "    </tr>\n",
       "    <tr>\n",
       "      <th>13</th>\n",
       "      <td>1.523850</td>\n",
       "      <td>0.46256</td>\n",
       "    </tr>\n",
       "    <tr>\n",
       "      <th>14</th>\n",
       "      <td>1.512405</td>\n",
       "      <td>0.46670</td>\n",
       "    </tr>\n",
       "    <tr>\n",
       "      <th>15</th>\n",
       "      <td>1.501793</td>\n",
       "      <td>0.46994</td>\n",
       "    </tr>\n",
       "    <tr>\n",
       "      <th>16</th>\n",
       "      <td>1.491191</td>\n",
       "      <td>0.47494</td>\n",
       "    </tr>\n",
       "    <tr>\n",
       "      <th>17</th>\n",
       "      <td>1.478113</td>\n",
       "      <td>0.47972</td>\n",
       "    </tr>\n",
       "    <tr>\n",
       "      <th>18</th>\n",
       "      <td>1.469774</td>\n",
       "      <td>0.48204</td>\n",
       "    </tr>\n",
       "    <tr>\n",
       "      <th>19</th>\n",
       "      <td>1.461923</td>\n",
       "      <td>0.48426</td>\n",
       "    </tr>\n",
       "    <tr>\n",
       "      <th>20</th>\n",
       "      <td>1.449317</td>\n",
       "      <td>0.48848</td>\n",
       "    </tr>\n",
       "    <tr>\n",
       "      <th>21</th>\n",
       "      <td>1.445055</td>\n",
       "      <td>0.49140</td>\n",
       "    </tr>\n",
       "    <tr>\n",
       "      <th>22</th>\n",
       "      <td>1.434877</td>\n",
       "      <td>0.49440</td>\n",
       "    </tr>\n",
       "    <tr>\n",
       "      <th>23</th>\n",
       "      <td>1.426579</td>\n",
       "      <td>0.49754</td>\n",
       "    </tr>\n",
       "    <tr>\n",
       "      <th>24</th>\n",
       "      <td>1.420667</td>\n",
       "      <td>0.49892</td>\n",
       "    </tr>\n",
       "    <tr>\n",
       "      <th>25</th>\n",
       "      <td>1.410892</td>\n",
       "      <td>0.50294</td>\n",
       "    </tr>\n",
       "    <tr>\n",
       "      <th>26</th>\n",
       "      <td>1.405959</td>\n",
       "      <td>0.50396</td>\n",
       "    </tr>\n",
       "    <tr>\n",
       "      <th>27</th>\n",
       "      <td>1.397510</td>\n",
       "      <td>0.50828</td>\n",
       "    </tr>\n",
       "    <tr>\n",
       "      <th>28</th>\n",
       "      <td>1.391420</td>\n",
       "      <td>0.51064</td>\n",
       "    </tr>\n",
       "    <tr>\n",
       "      <th>29</th>\n",
       "      <td>1.384678</td>\n",
       "      <td>0.51246</td>\n",
       "    </tr>\n",
       "    <tr>\n",
       "      <th>30</th>\n",
       "      <td>1.376504</td>\n",
       "      <td>0.51570</td>\n",
       "    </tr>\n",
       "    <tr>\n",
       "      <th>31</th>\n",
       "      <td>1.372012</td>\n",
       "      <td>0.51672</td>\n",
       "    </tr>\n",
       "    <tr>\n",
       "      <th>32</th>\n",
       "      <td>1.366196</td>\n",
       "      <td>0.51718</td>\n",
       "    </tr>\n",
       "    <tr>\n",
       "      <th>33</th>\n",
       "      <td>1.361344</td>\n",
       "      <td>0.52056</td>\n",
       "    </tr>\n",
       "    <tr>\n",
       "      <th>34</th>\n",
       "      <td>1.355731</td>\n",
       "      <td>0.52054</td>\n",
       "    </tr>\n",
       "    <tr>\n",
       "      <th>35</th>\n",
       "      <td>1.349543</td>\n",
       "      <td>0.52460</td>\n",
       "    </tr>\n",
       "    <tr>\n",
       "      <th>36</th>\n",
       "      <td>1.342080</td>\n",
       "      <td>0.52782</td>\n",
       "    </tr>\n",
       "    <tr>\n",
       "      <th>37</th>\n",
       "      <td>1.337353</td>\n",
       "      <td>0.52980</td>\n",
       "    </tr>\n",
       "    <tr>\n",
       "      <th>38</th>\n",
       "      <td>1.332984</td>\n",
       "      <td>0.53258</td>\n",
       "    </tr>\n",
       "    <tr>\n",
       "      <th>39</th>\n",
       "      <td>1.327797</td>\n",
       "      <td>0.53260</td>\n",
       "    </tr>\n",
       "    <tr>\n",
       "      <th>40</th>\n",
       "      <td>1.324821</td>\n",
       "      <td>0.53302</td>\n",
       "    </tr>\n",
       "    <tr>\n",
       "      <th>41</th>\n",
       "      <td>1.320402</td>\n",
       "      <td>0.53512</td>\n",
       "    </tr>\n",
       "    <tr>\n",
       "      <th>42</th>\n",
       "      <td>1.312822</td>\n",
       "      <td>0.53716</td>\n",
       "    </tr>\n",
       "    <tr>\n",
       "      <th>43</th>\n",
       "      <td>1.309319</td>\n",
       "      <td>0.54048</td>\n",
       "    </tr>\n",
       "    <tr>\n",
       "      <th>44</th>\n",
       "      <td>1.303442</td>\n",
       "      <td>0.54334</td>\n",
       "    </tr>\n",
       "    <tr>\n",
       "      <th>45</th>\n",
       "      <td>1.302204</td>\n",
       "      <td>0.54112</td>\n",
       "    </tr>\n",
       "    <tr>\n",
       "      <th>46</th>\n",
       "      <td>1.296340</td>\n",
       "      <td>0.54678</td>\n",
       "    </tr>\n",
       "    <tr>\n",
       "      <th>47</th>\n",
       "      <td>1.292806</td>\n",
       "      <td>0.54510</td>\n",
       "    </tr>\n",
       "    <tr>\n",
       "      <th>48</th>\n",
       "      <td>1.286862</td>\n",
       "      <td>0.54584</td>\n",
       "    </tr>\n",
       "    <tr>\n",
       "      <th>49</th>\n",
       "      <td>1.282452</td>\n",
       "      <td>0.55088</td>\n",
       "    </tr>\n",
       "  </tbody>\n",
       "</table>\n",
       "</div>"
      ],
      "text/plain": [
       "        loss  categorical_accuracy\n",
       "0   2.051991               0.25788\n",
       "1   1.863062               0.34256\n",
       "2   1.790218               0.36970\n",
       "3   1.741540               0.38552\n",
       "4   1.704432               0.40132\n",
       "5   1.673677               0.40986\n",
       "6   1.646760               0.42000\n",
       "7   1.623940               0.42774\n",
       "8   1.601433               0.43518\n",
       "9   1.583697               0.44172\n",
       "10  1.566224               0.44838\n",
       "11  1.551167               0.45254\n",
       "12  1.538992               0.45770\n",
       "13  1.523850               0.46256\n",
       "14  1.512405               0.46670\n",
       "15  1.501793               0.46994\n",
       "16  1.491191               0.47494\n",
       "17  1.478113               0.47972\n",
       "18  1.469774               0.48204\n",
       "19  1.461923               0.48426\n",
       "20  1.449317               0.48848\n",
       "21  1.445055               0.49140\n",
       "22  1.434877               0.49440\n",
       "23  1.426579               0.49754\n",
       "24  1.420667               0.49892\n",
       "25  1.410892               0.50294\n",
       "26  1.405959               0.50396\n",
       "27  1.397510               0.50828\n",
       "28  1.391420               0.51064\n",
       "29  1.384678               0.51246\n",
       "30  1.376504               0.51570\n",
       "31  1.372012               0.51672\n",
       "32  1.366196               0.51718\n",
       "33  1.361344               0.52056\n",
       "34  1.355731               0.52054\n",
       "35  1.349543               0.52460\n",
       "36  1.342080               0.52782\n",
       "37  1.337353               0.52980\n",
       "38  1.332984               0.53258\n",
       "39  1.327797               0.53260\n",
       "40  1.324821               0.53302\n",
       "41  1.320402               0.53512\n",
       "42  1.312822               0.53716\n",
       "43  1.309319               0.54048\n",
       "44  1.303442               0.54334\n",
       "45  1.302204               0.54112\n",
       "46  1.296340               0.54678\n",
       "47  1.292806               0.54510\n",
       "48  1.286862               0.54584\n",
       "49  1.282452               0.55088"
      ]
     },
     "execution_count": 65,
     "metadata": {},
     "output_type": "execute_result"
    }
   ],
   "source": [
    "# Create a pandas DataFrame to see the reults of the train for each epoch\n",
    "\n",
    "df = pd.DataFrame(history.history)\n",
    "df"
   ]
  },
  {
   "cell_type": "markdown",
   "id": "cc9ab895",
   "metadata": {},
   "source": [
    "### Ploting the results "
   ]
  },
  {
   "cell_type": "code",
   "execution_count": 66,
   "id": "4fa34a2e",
   "metadata": {},
   "outputs": [
    {
     "data": {
      "text/plain": [
       "[Text(0.5, 0, '#epoch'), Text(0, 0.5, 'loss')]"
      ]
     },
     "execution_count": 66,
     "metadata": {},
     "output_type": "execute_result"
    },
    {
     "data": {
      "image/png": "[encoded data removed]",
      "text/plain": [
       "<Figure size 432x288 with 1 Axes>"
      ]
     },
     "metadata": {
      "needs_background": "light"
     },
     "output_type": "display_data"
    }
   ],
   "source": [
    "#Plot of  the loss values \n",
    "\n",
    "what_to_see = 'loss'\n",
    "\n",
    "my_plot = df.plot(y=what_to_see)\n",
    "my_plot.set(xlabel = '#epoch' , ylabel = what_to_see)"
   ]
  },
  {
   "cell_type": "code",
   "execution_count": 67,
   "id": "426c920c",
   "metadata": {},
   "outputs": [
    {
     "data": {
      "text/plain": [
       "[Text(0.5, 0, '#epoch'), Text(0, 0.5, 'categorical_accuracy')]"
      ]
     },
     "execution_count": 67,
     "metadata": {},
     "output_type": "execute_result"
    },
    {
     "data": {
      "image/png": "[encoded data removed]",
      "text/plain": [
       "<Figure size 432x288 with 1 Axes>"
      ]
     },
     "metadata": {
      "needs_background": "light"
     },
     "output_type": "display_data"
    }
   ],
   "source": [
    "#plot of the categorical_accuracy\n",
    "\n",
    "what_to_see1 = 'categorical_accuracy'\n",
    "\n",
    "my_plot = df.plot(y=what_to_see1)\n",
    "my_plot.set(xlabel = '#epoch' , ylabel = what_to_see1)"
   ]
  },
  {
   "cell_type": "code",
   "execution_count": 69,
   "id": "326f39b1",
   "metadata": {},
   "outputs": [
    {
     "data": {
      "image/png": "[encoded data removed]",
      "text/plain": [
       "<Figure size 432x288 with 1 Axes>"
      ]
     },
     "metadata": {
      "needs_background": "light"
     },
     "output_type": "display_data"
    },
    {
     "name": "stdout",
     "output_type": "stream",
     "text": [
      "digit label: 1, one_hot label:[0. 1. 0. 0. 0. 0. 0. 0. 0. 0.]\n"
     ]
    }
   ],
   "source": [
    "# Following example helps us to see how we can set a label and its corresponding image\n",
    "\n",
    "# let we want to see the image the fifth image in the training set\n",
    "\n",
    "idx = 5\n",
    "\n",
    "tmp_image , tmp_label , tmp_one_hot = train_images[idx] , train_labels[idx,0] , train_labels_one_hot[idx]\n",
    "plt.imshow(tmp_image)\n",
    "plt.show()\n",
    "\n",
    "print(f'digit label: {tmp_label}, one_hot label:{tmp_one_hot}')\n",
    "\n"
   ]
  },
  {
   "cell_type": "code",
   "execution_count": 70,
   "id": "80392a3f",
   "metadata": {},
   "outputs": [
    {
     "data": {
      "text/plain": [
       "array([[0.10721423, 0.404457  , 0.00141529, 0.02864186, 0.03122306,\n",
       "        0.02486805, 0.03090061, 0.27995878, 0.00337229, 0.08794881]],\n",
       "      dtype=float32)"
      ]
     },
     "execution_count": 70,
     "metadata": {},
     "output_type": "execute_result"
    }
   ],
   "source": [
    "model.predict(tmp_image[tf.newaxis , ...]) # using [tf.newaxis wecan add a dimension as batch size to our tmp_image\n"
   ]
  },
  {
   "cell_type": "code",
   "execution_count": 71,
   "id": "03feaa66",
   "metadata": {},
   "outputs": [
    {
     "data": {
      "text/plain": [
       "(<tf.Tensor: shape=(1,), dtype=int64, numpy=array([1], dtype=int64)>,\n",
       " array([[0.10721423, 0.404457  , 0.00141529, 0.02864186, 0.03122306,\n",
       "         0.02486805, 0.03090061, 0.27995878, 0.00337229, 0.08794881]],\n",
       "       dtype=float32))"
      ]
     },
     "execution_count": 71,
     "metadata": {},
     "output_type": "execute_result"
    }
   ],
   "source": [
    "# Now we should find the biggest number and take its class as our class\n",
    "# We use K.argmax. this code returns the number of place for the maximum\n",
    "result = model.predict(tmp_image[tf.newaxis , ...])\n",
    "index_result = K.argmax(result)\n",
    "index_result, result\n",
    "#print(f'index result: {index_result}, and the result {result}')"
   ]
  },
  {
   "cell_type": "code",
   "execution_count": null,
   "id": "970ba4ec",
   "metadata": {},
   "outputs": [],
   "source": []
  }
 ],
 "metadata": {
  "kernelspec": {
   "display_name": "Python 3",
   "language": "python",
   "name": "python3"
  },
  "language_info": {
   "codemirror_mode": {
    "name": "ipython",
    "version": 3
   },
   "file_extension": ".py",
   "mimetype": "text/x-python",
   "name": "python",
   "nbconvert_exporter": "python",
   "pygments_lexer": "ipython3",
   "version": "3.8.8"
  }
 },
 "nbformat": 4,
 "nbformat_minor": 5
}
